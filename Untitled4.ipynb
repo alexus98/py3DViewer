{
 "cells": [
  {
   "cell_type": "code",
   "execution_count": 1,
   "metadata": {},
   "outputs": [
    {
     "data": {
      "application/vnd.jupyter.widget-view+json": {
       "model_id": "c966c46ac6fb44b18beb0b9dc72ad98d",
       "version_major": 2,
       "version_minor": 0
      },
      "text/plain": [
       "HBox(children=(FloatRangeSlider(value=(-0.000494, 0.622704), description='X Clipping:', max=0.6289359800000001…"
      ]
     },
     "metadata": {},
     "output_type": "display_data"
    },
    {
     "data": {
      "application/vnd.jupyter.widget-view+json": {
       "model_id": "8440c3fc6b854050875b66244fdb77f0",
       "version_major": 2,
       "version_minor": 0
      },
      "text/plain": [
       "HBox(children=(FloatRangeSlider(value=(-0.000887, 0.622859), description='Y Clipping:', max=0.6290964600000001…"
      ]
     },
     "metadata": {},
     "output_type": "display_data"
    },
    {
     "data": {
      "application/vnd.jupyter.widget-view+json": {
       "model_id": "e0fe4d7bd1544d368cc0bcda62d9bfb2",
       "version_major": 2,
       "version_minor": 0
      },
      "text/plain": [
       "HBox(children=(FloatRangeSlider(value=(-0.000867, 0.476101), description='Z Clipping:', max=0.48087068, min=-0…"
      ]
     },
     "metadata": {},
     "output_type": "display_data"
    },
    {
     "data": {
      "application/vnd.jupyter.widget-view+json": {
       "model_id": "f127da759dfd4d53addc7ad902da2993",
       "version_major": 2,
       "version_minor": 0
      },
      "text/plain": [
       "HBox(children=(FloatSlider(value=0.4, description='Wireframe', max=1.0, readout_format='.1f'), ColorPicker(val…"
      ]
     },
     "metadata": {},
     "output_type": "display_data"
    },
    {
     "data": {
      "application/vnd.jupyter.widget-view+json": {
       "model_id": "ca88a8beb96d4411b5f1bcfd8b19ee00",
       "version_major": 2,
       "version_minor": 0
      },
      "text/plain": [
       "HBox(children=(Label(value='Click informations:', layout=Layout(margin='0 0 0 20px')),))"
      ]
     },
     "metadata": {},
     "output_type": "display_data"
    },
    {
     "data": {
      "application/vnd.jupyter.widget-view+json": {
       "model_id": "399fdcb4a6034b3ab3b45eb759db526a",
       "version_major": 2,
       "version_minor": 0
      },
      "text/plain": [
       "HBox(children=(Label(value='', layout=Layout(margin='0 0 0 20px')),))"
      ]
     },
     "metadata": {},
     "output_type": "display_data"
    },
    {
     "data": {
      "application/vnd.jupyter.widget-view+json": {
       "model_id": "96e1443b721e4f69a27df0978c311bc4",
       "version_major": 2,
       "version_minor": 0
      },
      "text/plain": [
       "HBox(children=(Tab(children=(HTML(value='', layout=Layout(margin='0 0 0 10px')), HTML(value='', layout=Layout(…"
      ]
     },
     "metadata": {},
     "output_type": "display_data"
    },
    {
     "data": {
      "application/vnd.jupyter.widget-view+json": {
       "model_id": "99f4902878624132a098e42312a5435e",
       "version_major": 2,
       "version_minor": 0
      },
      "text/plain": [
       "Dropdown(description='Color-Map:', layout=Layout(display='none'), options=(('virdis', 0), ('parula', 1), ('jet…"
      ]
     },
     "metadata": {},
     "output_type": "display_data"
    },
    {
     "data": {
      "application/vnd.jupyter.widget-view+json": {
       "model_id": "b7df2b264bb14e6ab6ceb7618278c2fa",
       "version_major": 2,
       "version_minor": 0
      },
      "text/plain": [
       "Dropdown(description='Metric:', layout=Layout(display='none'), options=(('scaled_jacobian', 0), ('volume', 1))…"
      ]
     },
     "metadata": {},
     "output_type": "display_data"
    },
    {
     "data": {
      "application/vnd.jupyter.widget-view+json": {
       "model_id": "8d7ee195feae47b5a7807c197a63d7bb",
       "version_major": 2,
       "version_minor": 0
      },
      "text/plain": [
       "Dropdown(description='Color Type:', options=(('Default', 0), ('Simplex Quality', 1), ('Label', 2)), value=0)"
      ]
     },
     "metadata": {},
     "output_type": "display_data"
    },
    {
     "data": {
      "application/vnd.jupyter.widget-view+json": {
       "model_id": "6a81f49a8c1d46cbb86020c0f77f4172",
       "version_major": 2,
       "version_minor": 0
      },
      "text/plain": [
       "HBox(children=(ColorPicker(value='#ffa500', concise=True, description='Internal'), ColorPicker(value='#01d4b4'…"
      ]
     },
     "metadata": {},
     "output_type": "display_data"
    },
    {
     "data": {
      "application/vnd.jupyter.widget-view+json": {
       "model_id": "819069a9661d42319f84f5bf0bd26fc6",
       "version_major": 2,
       "version_minor": 0
      },
      "text/plain": [
       "HBox(children=(ColorPicker(value='#d7e0aa', concise=True, description='Label 0', layout=Layout(display='')),),…"
      ]
     },
     "metadata": {},
     "output_type": "display_data"
    },
    {
     "data": {
      "application/vnd.jupyter.widget-view+json": {
       "model_id": "282bba16dc9e4711bacaceae65a82a23",
       "version_major": 2,
       "version_minor": 0
      },
      "text/plain": [
       "Renderer(camera=PerspectiveCamera(aspect=1.4285714285714286, children=(DirectionalLight(position=(0.0, 10.0, 0…"
      ]
     },
     "metadata": {},
     "output_type": "display_data"
    }
   ],
   "source": [
    "from Py3DViewer import Hexmesh, Trimesh, Viewer, Quadmesh, Tetmesh\n",
    "import numpy as np\n",
    "\n",
    "#m = Trimesh('data/bunny_tris.obj')\n",
    "v = Quadmesh('data/bunny_quad.obj')\n",
    "#h = Hexmesh('data/4x4x4.mesh')\n",
    "#t = Tetmesh('data/cube.mesh')\n",
    "#t2 = Tetmesh('data/pyramid.mesh')\n",
    "h = Hexmesh('data/bumpy_hex.mesh')\n",
    "\n",
    "\n",
    "viewer = Viewer(h, with_gui = True, reactive = True)\n",
    "\n",
    "viewer.show()\n",
    "\n"
   ]
  },
  {
   "cell_type": "code",
   "execution_count": null,
   "metadata": {},
   "outputs": [],
   "source": []
  },
  {
   "cell_type": "code",
   "execution_count": null,
   "metadata": {},
   "outputs": [],
   "source": []
  },
  {
   "cell_type": "code",
   "execution_count": null,
   "metadata": {},
   "outputs": [],
   "source": []
  }
 ],
 "metadata": {
  "kernelspec": {
   "display_name": "Python 3",
   "language": "python",
   "name": "python3"
  },
  "language_info": {
   "codemirror_mode": {
    "name": "ipython",
    "version": 3
   },
   "file_extension": ".py",
   "mimetype": "text/x-python",
   "name": "python",
   "nbconvert_exporter": "python",
   "pygments_lexer": "ipython3",
   "version": "3.7.6"
  }
 },
 "nbformat": 4,
 "nbformat_minor": 4
}
