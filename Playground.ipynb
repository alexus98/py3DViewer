{
 "cells": [
  {
   "cell_type": "code",
   "execution_count": 1,
   "metadata": {
    "scrolled": true
   },
   "outputs": [],
   "source": [
    "from Py3DViewer import Trimesh, Quadmesh, Tetmesh, Hexmesh\n",
    "from Py3DViewer import Viewer, laplacian_smoothing\n",
    "from Py3DViewer import AABB, SpaceObject, Octree, NOctreeNode, NOctree, Skeleton, PointCloud\n",
    "import numpy as np\n",
    "import time\n",
    "from numba.typed import List\n",
    "from numba import typeof\n",
    "from copy import deepcopy\n",
    "\n",
    "l=List()\n",
    "t=Trimesh('data/snakeboard_triangulated.obj')\n",
    "for p in t.polys:\n",
    "    l.append(SpaceObject(np.array(t.vertices[p],dtype='float64')))"
   ]
  },
  {
   "cell_type": "code",
   "execution_count": 2,
   "metadata": {
    "scrolled": false
   },
   "outputs": [
    {
     "name": "stdout",
     "output_type": "stream",
     "text": [
      "CPU times: user 7.03 s, sys: 67 ms, total: 7.09 s\n",
      "Wall time: 7.29 s\n"
     ]
    },
    {
     "data": {
      "text/plain": [
       "(True, {10318, 12120})"
      ]
     },
     "execution_count": 2,
     "metadata": {},
     "output_type": "execute_result"
    }
   ],
   "source": [
    "%time o=Octree(10,8,l,t.vertices)\n",
    "\n",
    "ori = np.array([0, 0.24394329, 0],dtype='float64')\n",
    "d = np.array([1, 1, 1],dtype='float64')\n",
    "\n",
    "o.intersects_ray(type(t).__name__,ori,d)"
   ]
  },
  {
   "cell_type": "code",
   "execution_count": 7,
   "metadata": {
    "scrolled": false
   },
   "outputs": [
    {
     "data": {
      "application/vnd.jupyter.widget-view+json": {
       "model_id": "aa2cf7a8cc0c40169b69ec0870f900f1",
       "version_major": 2,
       "version_minor": 0
      },
      "text/plain": [
       "Renderer(camera=PerspectiveCamera(aspect=2.0, children=(DirectionalLight(position=(0.0, 10.0, 0.0), quaternion…"
      ]
     },
     "metadata": {},
     "output_type": "display_data"
    }
   ],
   "source": [
    "vertices,edges=AABB.get_all_vertices_and_edges(o.n.aabbs)\n",
    "vertices=np.vstack(vertices)\n",
    "edges=np.array(edges)\n",
    "s = Skeleton(None,vertices,edges)\n",
    "viewer = Viewer(s, width=1000, height=500)\n",
    "viewer.show()"
   ]
  },
  {
   "cell_type": "code",
   "execution_count": null,
   "metadata": {},
   "outputs": [],
   "source": [
    "mesh = [Trimesh('data/bunny_tris.obj'), Quadmesh('data/bunny_quad.obj')]"
   ]
  },
  {
   "cell_type": "code",
   "execution_count": null,
   "metadata": {},
   "outputs": [],
   "source": [
    "\"\"\"\n",
    "After running this cell, you will notice that the quad bunny is quite larger than the tri bunny,\n",
    "and is also oriented differently.\n",
    "\"\"\"\n",
    "viewer = Viewer(mesh, width=1000, height=300)\n",
    "viewer.show()"
   ]
  },
  {
   "cell_type": "code",
   "execution_count": null,
   "metadata": {},
   "outputs": [],
   "source": [
    "\"\"\"\n",
    "Let's first scale the meshes to have a bounding box diagonal of 10, then update the viewer. \n",
    "NOTE: The viewer update takes some time depending\n",
    "on the quality of your connect, since the new geometry is streamed from the backend to your browser.\n",
    "\"\"\"\n",
    "\n",
    "mesh[0].vertices /= np.linalg.norm(mesh[0].bbox[1]-mesh[0].bbox[0])\n",
    "mesh[0].vertices *= 10\n",
    "mesh[1].vertices /= np.linalg.norm(mesh[1].bbox[1]-mesh[1].bbox[0])\n",
    "mesh[1].vertices *=10\n",
    "viewer.update_controls()\n",
    "viewer.update()"
   ]
  },
  {
   "cell_type": "code",
   "execution_count": null,
   "metadata": {},
   "outputs": [],
   "source": [
    "\"\"\"\n",
    "Let's rotate the quad bunny by using the transform_rotation method\n",
    "\"\"\"\n",
    "mesh[1].transform_rotation(-90, 'x')\n",
    "viewer.update()"
   ]
  },
  {
   "cell_type": "code",
   "execution_count": null,
   "metadata": {},
   "outputs": [],
   "source": [
    "\"\"\"\n",
    "Let's now do the same with a \"reactive\" approach.\n",
    "When using a reactive viewer, the user can simply act on the mesh data however they[-5.94054e-01 -5.72423e-04 -1.45624e+00] MAX CHILDREN: [0.         0.24394329 0.        ] choose, and the viewer\n",
    "is asynchronously updated (with a minimal, if any, overhead on the computation).\n",
    "\n",
    "Again, consider that the redraws are strongly bound by the fact that the Python and Javascript backend are\n",
    "de-coupled in this context, since Binder runs in the cloud. We highly suggest trying the library locally to\n",
    "properly experience the reactive redraws.\n",
    "\"\"\"\n",
    "mesh2 = [Trimesh('data/tri_326064.obj')]\n",
    "viewer2 = Viewer(mesh2, width=1000, height=500, reactive=True)\n",
    "viewer2.show()"
   ]
  },
  {
   "cell_type": "code",
   "execution_count": null,
   "metadata": {},
   "outputs": [],
   "source": [
    "mesh2[0].vertices /= np.linalg.norm(mesh2[0].bbox[1]-mesh2[0].bbox[0])\n",
    "mesh2[0].vertices *= 10\n",
    "mesh2[1].vertices /= np.linalg.norm(mesh2[1].bbox[1]-mesh2[1].bbox[0])\n",
    "mesh2[1].vertices *=10\n",
    "viewer2.update_controls()\n",
    "mesh2[1].transform_rotation(-90, 'x')"
   ]
  },
  {
   "cell_type": "code",
   "execution_count": 17,
   "metadata": {},
   "outputs": [
    {
     "data": {
      "application/vnd.jupyter.widget-view+json": {
       "model_id": "d4841d59bf5c48e0b602420c15d5408c",
       "version_major": 2,
       "version_minor": 0
      },
      "text/plain": [
       "Dropdown(description='Color-Map:', layout=Layout(display='none', height='auto'), options=(('virdis', 0), ('par…"
      ]
     },
     "metadata": {},
     "output_type": "display_data"
    },
    {
     "data": {
      "application/vnd.jupyter.widget-view+json": {
       "model_id": "69b3ad1f38bc4fa9bb3e15bca3073f45",
       "version_major": 2,
       "version_minor": 0
      },
      "text/plain": [
       "Dropdown(description='Metric:', layout=Layout(display='none', height='auto'), options=(('area', 0), ('aspect_r…"
      ]
     },
     "metadata": {},
     "output_type": "display_data"
    },
    {
     "data": {
      "application/vnd.jupyter.widget-view+json": {
       "model_id": "e79eb753b94d4954acaca7bb3818bc3d",
       "version_major": 2,
       "version_minor": 0
      },
      "text/plain": [
       "HBox(children=(VBox(children=(HBox(children=(FloatRangeSlider(value=(-0.594054, 0.594054), description='X Clip…"
      ]
     },
     "metadata": {},
     "output_type": "display_data"
    },
    {
     "data": {
      "application/vnd.jupyter.widget-view+json": {
       "model_id": "327b524591c74b78b868945acbe1f295",
       "version_major": 2,
       "version_minor": 0
      },
      "text/plain": [
       "HBox(children=(ColorPicker(value='#01d4b4', concise=True, description='External'), ColorPicker(value='#ff00ff'…"
      ]
     },
     "metadata": {},
     "output_type": "display_data"
    },
    {
     "data": {
      "application/vnd.jupyter.widget-view+json": {
       "model_id": "172085e585e8463da00736211a570c36",
       "version_major": 2,
       "version_minor": 0
      },
      "text/plain": [
       "HBox(children=(ColorPicker(value='#49bb6d', concise=True, description='Label 0', layout=Layout(display='', hei…"
      ]
     },
     "metadata": {},
     "output_type": "display_data"
    },
    {
     "data": {
      "application/vnd.jupyter.widget-view+json": {
       "model_id": "c98c2dbda9244a86b1d4ec31afcbed42",
       "version_major": 2,
       "version_minor": 0
      },
      "text/plain": [
       "Renderer(camera=PerspectiveCamera(aspect=3.3333333333333335, children=(DirectionalLight(position=(0.0, 10.0, 0…"
      ]
     },
     "metadata": {},
     "output_type": "display_data"
    }
   ],
   "source": [
    "\"\"\"\n",
    "Here's an example with the GUI, which only works with a single mesh per scene so far. We are working to support multiple meshes.\n",
    "\"\"\"\n",
    "mesh3 = Hexmesh('data/double_hinge_hex.mesh')\n",
    "viewer3 = Viewer(t, width=1000, height=300, with_gui=True)\n",
    "viewer3.show()"
   ]
  },
  {
   "cell_type": "code",
   "execution_count": 16,
   "metadata": {},
   "outputs": [
    {
     "data": {
      "application/vnd.jupyter.widget-view+json": {
       "model_id": "e6375763aa1044b48a4d243380648063",
       "version_major": 2,
       "version_minor": 0
      },
      "text/plain": [
       "Renderer(camera=PerspectiveCamera(children=(DirectionalLight(position=(0.0, 10.0, 0.0), quaternion=(0.0, 0.0, …"
      ]
     },
     "metadata": {},
     "output_type": "display_data"
    },
    {
     "data": {
      "application/vnd.jupyter.widget-view+json": {
       "model_id": "5ae9ce7a3f714b03a2cd4ea09b36a8a2",
       "version_major": 2,
       "version_minor": 0
      },
      "text/plain": [
       "Renderer(camera=PerspectiveCamera(children=(DirectionalLight(position=(0.0, 10.0, 0.0), quaternion=(0.0, 0.0, …"
      ]
     },
     "metadata": {},
     "output_type": "display_data"
    },
    {
     "data": {
      "application/vnd.jupyter.widget-view+json": {
       "model_id": "dccb07183bc14808b9d4453fcc161c8d",
       "version_major": 2,
       "version_minor": 0
      },
      "text/plain": [
       "Renderer(camera=PerspectiveCamera(children=(DirectionalLight(position=(0.0, 10.0, 0.0), quaternion=(0.0, 0.0, …"
      ]
     },
     "metadata": {},
     "output_type": "display_data"
    },
    {
     "data": {
      "application/vnd.jupyter.widget-view+json": {
       "model_id": "eb4c1e5103bc4b47bc7aaf327cd423e0",
       "version_major": 2,
       "version_minor": 0
      },
      "text/plain": [
       "Renderer(camera=PerspectiveCamera(children=(DirectionalLight(position=(0.0, 10.0, 0.0), quaternion=(0.0, 0.0, …"
      ]
     },
     "metadata": {},
     "output_type": "display_data"
    },
    {
     "data": {
      "text/plain": [
       "Use the show method to view the content."
      ]
     },
     "execution_count": 16,
     "metadata": {},
     "output_type": "execute_result"
    }
   ],
   "source": [
    "\"\"\"\n",
    "Py3DViewer have texture support for surface meshes.\n",
    "These are some examples.\n",
    "\"\"\"\n",
    "spot = Trimesh('data/spot.obj', texture='data/textures/spot_texture.png')\n",
    "blub = Trimesh('data/blub.obj', texture='data/textures/blub_texture.png')\n",
    "cube_tris = Trimesh('data/cube_tris_mtl.obj', mtl='data/cube.mtl')\n",
    "cube_quad = Quadmesh('data/cube_quad_mtl.obj', mtl='data/cube.mtl')\n",
    "spot.show()\n",
    "blub.show()\n",
    "cube_tris.show()\n",
    "cube_quad.show()"
   ]
  },
  {
   "cell_type": "code",
   "execution_count": null,
   "metadata": {},
   "outputs": [],
   "source": []
  }
 ],
 "metadata": {
  "kernelspec": {
   "display_name": "Python 3",
   "language": "python",
   "name": "python3"
  },
  "language_info": {
   "codemirror_mode": {
    "name": "ipython",
    "version": 3
   },
   "file_extension": ".py",
   "mimetype": "text/x-python",
   "name": "python",
   "nbconvert_exporter": "python",
   "pygments_lexer": "ipython3",
   "version": "3.8.6"
  }
 },
 "nbformat": 4,
 "nbformat_minor": 4
}
