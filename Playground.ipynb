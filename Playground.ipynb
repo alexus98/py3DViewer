{
 "cells": [
  {
   "cell_type": "code",
   "execution_count": 1,
   "metadata": {
    "scrolled": true
   },
   "outputs": [],
   "source": [
    "from Py3DViewer import Trimesh, Quadmesh, Tetmesh, Hexmesh\n",
    "from Py3DViewer import Viewer, laplacian_smoothing\n",
    "from Py3DViewer import AABB, SpaceObject, Octree, NOctreeNode, NOctree, Skeleton, PointCloud\n",
    "import numpy as np\n",
    "import time\n",
    "from numba.typed import List\n",
    "from numba import typeof\n",
    "from copy import deepcopy\n",
    "\n",
    "\"\"\"\n",
    "v1=np.array([0,0,1],dtype='float64')\n",
    "v2=np.array([1,0,1],dtype='float64')\n",
    "v3=np.array([1,1,1],dtype='float64')\n",
    "v4=np.array([0,1,1],dtype='float64')\n",
    "v5=np.array([0,0,0],dtype='float64')\n",
    "v6=np.array([1,0,0],dtype='float64')\n",
    "v7=np.array([1,1,0],dtype='float64')\n",
    "v8=np.array([0,1,0],dtype='float64')\n",
    "\n",
    "o=np.array([0.5,5,0.5],dtype='float64')\n",
    "d=np.array([0.5,-5,0.5],dtype='float64')\n",
    "\n",
    "vertices = np.array([v1,v2,v3,v4,v5,v6,v7,v8,o,d])\n",
    "edges = np.array([[0,1],[0,3],[0,4],[1,2],[2,3],[1,5],[2,6],[4,5],[5,6],[4,7],[3,7],[6,7],[8,9]])\n",
    "#aabb = AABB(np.array([v1,v2,v3,v4,v5,v6,v7,v8],dtype='float64'))\n",
    "\n",
    "#vertices = np.array([v5,v6,d],dtype='float64')\n",
    "#edges = np.array([[0,1],[0,2],[1,2]])\n",
    "#t=SpaceObject(vertices)\n",
    "#print(aabb.intersects_ray(o,d))\n",
    "s = Skeleton(None,vertices,edges)\n",
    "viewer = Viewer(s, width=1000, height=500, with_gui=True)\n",
    "viewer.show()\n",
    "\n",
    "vertices = np.array([[0.148268, 0.39998 , 0.132282],\n",
    "       [0.144366, 0.3935  , 0.198423],\n",
    "       [0.164742, 0.388654, 0.132282],[0.       , 0.250353 , 0.       ],\n",
    "       [0.0450559, 0.250353 , 0.       ],\n",
    "       [0.       , 0.249134 , 0.0661409],[1,1.24394329,1],[0,0.24394329,0]],dtype='float64')\n",
    "edges = np.array([[0,1],[0,2],[1,2],[3,4],[3,5],[4,5],[6,7]])\n",
    "\n",
    "s = Skeleton(None,vertices,edges)\n",
    "viewer = Viewer(s, width=1000, height=500, with_gui=True)\n",
    "viewer.show()\n",
    "\n",
    "t=Trimesh('data/snakeboard_triangulated.obj')\n",
    "vertices = t.vertices\n",
    "edges = t.polys\n",
    "\n",
    "v1=np.array([[0., 0.24394329, 0. ]],dtype='float64')\n",
    "v2=np.array([[20., 20.24394329, 20. ]],dtype='float64')\n",
    "\n",
    "vertices=np.concatenate((vertices,v1),axis=0)\n",
    "vertices=np.concatenate((vertices,v2),axis=0)\n",
    "\n",
    "e1=np.array([[12019,12018,12018]])\n",
    "edges=np.concatenate((edges,e1),axis=0)\n",
    "s = Skeleton(None,vertices,edges)\n",
    "viewer = Viewer(s, width=1000, height=500, with_gui=True)\n",
    "viewer.show()\n",
    "\n",
    "\n",
    "f=np.array([0,0,1],dtype='float64')\n",
    "print(t.ray_interesects_triangle(o,f))\n",
    "\"\"\"\n",
    "l=List()\n",
    "t=Trimesh('data/snakeboard_triangulated.obj')\n",
    "for p in t.polys:\n",
    "    l.append(SpaceObject(np.array(t.vertices[p],dtype='float64')))\n",
    "\n"
   ]
  },
  {
   "cell_type": "code",
   "execution_count": 2,
   "metadata": {
    "scrolled": false
   },
   "outputs": [
    {
     "name": "stdout",
     "output_type": "stream",
     "text": [
      "82664\n",
      "CPU times: user 8.19 s, sys: 45.5 ms, total: 8.24 s\n",
      "Wall time: 8.24 s\n"
     ]
    },
    {
     "data": {
      "text/plain": [
       "(True, {10318, 12120})"
      ]
     },
     "execution_count": 2,
     "metadata": {},
     "output_type": "execute_result"
    }
   ],
   "source": [
    "%time o=Octree(10,8,l,t.vertices)\n",
    "\n",
    "ori = np.array([0, 0.24394329, 0],dtype='float64')\n",
    "d = np.array([1, 1, 1],dtype='float64')\n",
    "\n",
    "o.intersects_ray(type(t).__name__,ori,d)"
   ]
  },
  {
   "cell_type": "code",
   "execution_count": 7,
   "metadata": {
    "scrolled": false
   },
   "outputs": [
    {
     "data": {
      "application/vnd.jupyter.widget-view+json": {
       "model_id": "aa2cf7a8cc0c40169b69ec0870f900f1",
       "version_major": 2,
       "version_minor": 0
      },
      "text/plain": [
       "Renderer(camera=PerspectiveCamera(aspect=2.0, children=(DirectionalLight(position=(0.0, 10.0, 0.0), quaternion…"
      ]
     },
     "metadata": {},
     "output_type": "display_data"
    }
   ],
   "source": [
    "vertices,edges=AABB.get_all_vertices_and_edges(o.n.aabbs)\n",
    "vertices=np.vstack(vertices)\n",
    "edges=np.array(edges)\n",
    "s = Skeleton(None,vertices,edges)\n",
    "viewer = Viewer(s, width=1000, height=500)\n",
    "viewer.show()"
   ]
  },
  {
   "cell_type": "code",
   "execution_count": null,
   "metadata": {},
   "outputs": [],
   "source": [
    "prova = np.array([[1,2,0],[1,2,3],[1,2,3]])\n",
    "print(prova)\n",
    "#%time t = Tet(prova)"
   ]
  },
  {
   "cell_type": "code",
   "execution_count": null,
   "metadata": {},
   "outputs": [],
   "source": [
    "\n",
    "\"\"\"\n",
    "t1=Triangle([[1,2,0],[1,2,3],[1,2,3]])\n",
    "t2=Triangle([[0,2,3],[4,2,7],[5,2,3]])\n",
    "t3=Triangle([[4,1,1],[1,6,3],[7,6,8]])\n",
    "t4=Triangle([[9,2,2],[9,8,7],[2,4,9]])\n",
    "t5=Triangle([[6,4,3],[6,2,9],[3,7,1]])\n",
    "t6=Triangle([[4,7,5],[1,5,9],[1,4,8]])\n",
    "t7=Triangle([[7,9,4],[3,6,4],[4,8,3]])\n",
    "provola=np.array([t1,t2,t3,t4,t5,t6,t7])\n",
    "\n",
    "items=[t1,t2,t3,t4,t5,t6,t7,t1,t2,t3,t4,t5,t6,t7,t1]\n",
    "\n",
    "o = Octree(7,10)\n",
    "\n",
    "start = time.time()\n",
    "o.build_octree(items)\n",
    "end = time.time()\n",
    "print(end - start)\"\"\"\n",
    "\"\"\"\n",
    "trimesh = Trimesh('data/PittsburghBridge.obj')\n",
    "v=trimesh.vertices[trimesh.polys[:]]\n",
    "t=None\n",
    "\n",
    "for vec in v:\n",
    "    if(t is None):\n",
    "        t = np.array(Triangle(vec))\n",
    "    else:\n",
    "        t = np.append(t,Triangle(vec))\n",
    "print(t.size)\"\"\""
   ]
  },
  {
   "cell_type": "code",
   "execution_count": null,
   "metadata": {},
   "outputs": [],
   "source": [
    "%time o.build_octree(t)\n",
    "\n",
    "o.root.aabb.min"
   ]
  },
  {
   "cell_type": "code",
   "execution_count": null,
   "metadata": {},
   "outputs": [],
   "source": [
    "mesh = [Trimesh('data/bunny_tris.obj'), Quadmesh('data/bunny_quad.obj')]"
   ]
  },
  {
   "cell_type": "code",
   "execution_count": null,
   "metadata": {},
   "outputs": [],
   "source": [
    "\"\"\"\n",
    "After running this cell, you will notice that the quad bunny is quite larger than the tri bunny,\n",
    "and is also oriented differently.\n",
    "\"\"\"\n",
    "viewer = Viewer(mesh, width=1000, height=300)\n",
    "viewer.show()"
   ]
  },
  {
   "cell_type": "code",
   "execution_count": null,
   "metadata": {},
   "outputs": [],
   "source": [
    "\"\"\"\n",
    "Let's first scale the meshes to have a bounding box diagonal of 10, then update the viewer. \n",
    "NOTE: The viewer update takes some time depending\n",
    "on the quality of your connect, since the new geometry is streamed from the backend to your browser.\n",
    "\"\"\"\n",
    "\n",
    "mesh[0].vertices /= np.linalg.norm(mesh[0].bbox[1]-mesh[0].bbox[0])\n",
    "mesh[0].vertices *= 10\n",
    "mesh[1].vertices /= np.linalg.norm(mesh[1].bbox[1]-mesh[1].bbox[0])\n",
    "mesh[1].vertices *=10\n",
    "viewer.update_controls()\n",
    "viewer.update()"
   ]
  },
  {
   "cell_type": "code",
   "execution_count": null,
   "metadata": {},
   "outputs": [],
   "source": [
    "\"\"\"\n",
    "Let's rotate the quad bunny by using the transform_rotation method\n",
    "\"\"\"\n",
    "mesh[1].transform_rotation(-90, 'x')\n",
    "viewer.update()"
   ]
  },
  {
   "cell_type": "code",
   "execution_count": null,
   "metadata": {},
   "outputs": [],
   "source": [
    "\"\"\"\n",
    "Let's now do the same with a \"reactive\" approach.\n",
    "When using a reactive viewer, the user can simply act on the mesh data however they[-5.94054e-01 -5.72423e-04 -1.45624e+00] MAX CHILDREN: [0.         0.24394329 0.        ] choose, and the viewer\n",
    "is asynchronously updated (with a minimal, if any, overhead on the computation).\n",
    "\n",
    "Again, consider that the redraws are strongly bound by the fact that the Python and Javascript backend are\n",
    "de-coupled in this context, since Binder runs in the cloud. We highly suggest trying the library locally to\n",
    "properly experience the reactive redraws.\n",
    "\"\"\"\n",
    "mesh2 = [Trimesh('data/tri_326064.obj')]\n",
    "viewer2 = Viewer(mesh2, width=1000, height=500, reactive=True)\n",
    "viewer2.show()"
   ]
  },
  {
   "cell_type": "code",
   "execution_count": null,
   "metadata": {},
   "outputs": [],
   "source": [
    "mesh2[0].vertices /= np.linalg.norm(mesh2[0].bbox[1]-mesh2[0].bbox[0])\n",
    "mesh2[0].vertices *= 10\n",
    "mesh2[1].vertices /= np.linalg.norm(mesh2[1].bbox[1]-mesh2[1].bbox[0])\n",
    "mesh2[1].vertices *=10\n",
    "viewer2.update_controls()\n",
    "mesh2[1].transform_rotation(-90, 'x')"
   ]
  },
  {
   "cell_type": "code",
   "execution_count": 17,
   "metadata": {},
   "outputs": [
    {
     "data": {
      "application/vnd.jupyter.widget-view+json": {
       "model_id": "d4841d59bf5c48e0b602420c15d5408c",
       "version_major": 2,
       "version_minor": 0
      },
      "text/plain": [
       "Dropdown(description='Color-Map:', layout=Layout(display='none', height='auto'), options=(('virdis', 0), ('par…"
      ]
     },
     "metadata": {},
     "output_type": "display_data"
    },
    {
     "data": {
      "application/vnd.jupyter.widget-view+json": {
       "model_id": "69b3ad1f38bc4fa9bb3e15bca3073f45",
       "version_major": 2,
       "version_minor": 0
      },
      "text/plain": [
       "Dropdown(description='Metric:', layout=Layout(display='none', height='auto'), options=(('area', 0), ('aspect_r…"
      ]
     },
     "metadata": {},
     "output_type": "display_data"
    },
    {
     "data": {
      "application/vnd.jupyter.widget-view+json": {
       "model_id": "e79eb753b94d4954acaca7bb3818bc3d",
       "version_major": 2,
       "version_minor": 0
      },
      "text/plain": [
       "HBox(children=(VBox(children=(HBox(children=(FloatRangeSlider(value=(-0.594054, 0.594054), description='X Clip…"
      ]
     },
     "metadata": {},
     "output_type": "display_data"
    },
    {
     "data": {
      "application/vnd.jupyter.widget-view+json": {
       "model_id": "327b524591c74b78b868945acbe1f295",
       "version_major": 2,
       "version_minor": 0
      },
      "text/plain": [
       "HBox(children=(ColorPicker(value='#01d4b4', concise=True, description='External'), ColorPicker(value='#ff00ff'…"
      ]
     },
     "metadata": {},
     "output_type": "display_data"
    },
    {
     "data": {
      "application/vnd.jupyter.widget-view+json": {
       "model_id": "172085e585e8463da00736211a570c36",
       "version_major": 2,
       "version_minor": 0
      },
      "text/plain": [
       "HBox(children=(ColorPicker(value='#49bb6d', concise=True, description='Label 0', layout=Layout(display='', hei…"
      ]
     },
     "metadata": {},
     "output_type": "display_data"
    },
    {
     "data": {
      "application/vnd.jupyter.widget-view+json": {
       "model_id": "c98c2dbda9244a86b1d4ec31afcbed42",
       "version_major": 2,
       "version_minor": 0
      },
      "text/plain": [
       "Renderer(camera=PerspectiveCamera(aspect=3.3333333333333335, children=(DirectionalLight(position=(0.0, 10.0, 0…"
      ]
     },
     "metadata": {},
     "output_type": "display_data"
    }
   ],
   "source": [
    "\"\"\"\n",
    "Here's an example with the GUI, which only works with a single mesh per scene so far. We are working to support multiple meshes.\n",
    "\"\"\"\n",
    "mesh3 = Hexmesh('data/double_hinge_hex.mesh')\n",
    "viewer3 = Viewer(t, width=1000, height=300, with_gui=True)\n",
    "viewer3.show()"
   ]
  },
  {
   "cell_type": "code",
   "execution_count": 16,
   "metadata": {},
   "outputs": [
    {
     "data": {
      "application/vnd.jupyter.widget-view+json": {
       "model_id": "e6375763aa1044b48a4d243380648063",
       "version_major": 2,
       "version_minor": 0
      },
      "text/plain": [
       "Renderer(camera=PerspectiveCamera(children=(DirectionalLight(position=(0.0, 10.0, 0.0), quaternion=(0.0, 0.0, …"
      ]
     },
     "metadata": {},
     "output_type": "display_data"
    },
    {
     "data": {
      "application/vnd.jupyter.widget-view+json": {
       "model_id": "5ae9ce7a3f714b03a2cd4ea09b36a8a2",
       "version_major": 2,
       "version_minor": 0
      },
      "text/plain": [
       "Renderer(camera=PerspectiveCamera(children=(DirectionalLight(position=(0.0, 10.0, 0.0), quaternion=(0.0, 0.0, …"
      ]
     },
     "metadata": {},
     "output_type": "display_data"
    },
    {
     "data": {
      "application/vnd.jupyter.widget-view+json": {
       "model_id": "dccb07183bc14808b9d4453fcc161c8d",
       "version_major": 2,
       "version_minor": 0
      },
      "text/plain": [
       "Renderer(camera=PerspectiveCamera(children=(DirectionalLight(position=(0.0, 10.0, 0.0), quaternion=(0.0, 0.0, …"
      ]
     },
     "metadata": {},
     "output_type": "display_data"
    },
    {
     "data": {
      "application/vnd.jupyter.widget-view+json": {
       "model_id": "eb4c1e5103bc4b47bc7aaf327cd423e0",
       "version_major": 2,
       "version_minor": 0
      },
      "text/plain": [
       "Renderer(camera=PerspectiveCamera(children=(DirectionalLight(position=(0.0, 10.0, 0.0), quaternion=(0.0, 0.0, …"
      ]
     },
     "metadata": {},
     "output_type": "display_data"
    },
    {
     "data": {
      "text/plain": [
       "Use the show method to view the content."
      ]
     },
     "execution_count": 16,
     "metadata": {},
     "output_type": "execute_result"
    }
   ],
   "source": [
    "\"\"\"\n",
    "Py3DViewer have texture support for surface meshes.\n",
    "These are some examples.\n",
    "\"\"\"\n",
    "spot = Trimesh('data/spot.obj', texture='data/textures/spot_texture.png')\n",
    "blub = Trimesh('data/blub.obj', texture='data/textures/blub_texture.png')\n",
    "cube_tris = Trimesh('data/cube_tris_mtl.obj', mtl='data/cube.mtl')\n",
    "cube_quad = Quadmesh('data/cube_quad_mtl.obj', mtl='data/cube.mtl')\n",
    "spot.show()\n",
    "blub.show()\n",
    "cube_tris.show()\n",
    "cube_quad.show()"
   ]
  },
  {
   "cell_type": "code",
   "execution_count": null,
   "metadata": {},
   "outputs": [],
   "source": []
  }
 ],
 "metadata": {
  "kernelspec": {
   "display_name": "Python 3",
   "language": "python",
   "name": "python3"
  },
  "language_info": {
   "codemirror_mode": {
    "name": "ipython",
    "version": 3
   },
   "file_extension": ".py",
   "mimetype": "text/x-python",
   "name": "python",
   "nbconvert_exporter": "python",
   "pygments_lexer": "ipython3",
   "version": "3.8.6"
  }
 },
 "nbformat": 4,
 "nbformat_minor": 4
}
