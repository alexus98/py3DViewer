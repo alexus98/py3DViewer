{
 "cells": [
  {
   "cell_type": "code",
   "execution_count": 3,
   "metadata": {},
   "outputs": [
    {
     "name": "stdout",
     "output_type": "stream",
     "text": [
      "0.0024576187133789062\n"
     ]
    },
    {
     "data": {
      "text/plain": [
       "3"
      ]
     },
     "execution_count": 3,
     "metadata": {},
     "output_type": "execute_result"
    }
   ],
   "source": [
    "\"\"\"\n",
    "Running this cell takes some time the first time, because the Numba JIT compilaton that compiles some \n",
    "\"\"\"\n",
    "\n",
    "from Py3DViewer import Trimesh, Quadmesh, Tetmesh, Hexmesh\n",
    "from Py3DViewer import Viewer, laplacian_smoothing\n",
    "from Py3DViewer import AABB, Triangle, Tet, SpaceObject, OctreeNode, Octree\n",
    "import numpy as np\n",
    "import time\n",
    "\n",
    "t1=Triangle([[1,2,0],[1,2,3],[1,2,3]])\n",
    "t2=Triangle([[0,2,3],[4,2,7],[5,2,3]])\n",
    "t3=Triangle([[4,1,1],[1,6,3],[7,6,8]])\n",
    "t4=Triangle([[9,2,2],[9,8,7],[2,4,9]])\n",
    "t5=Triangle([[6,4,3],[6,2,9],[3,7,1]])\n",
    "t6=Triangle([[4,7,5],[1,5,9],[1,4,8]])\n",
    "t7=Triangle([[7,9,4],[3,6,4],[4,8,3]])\n",
    "provola=np.array([t1,t2,t3,t4,t5,t6,t7])\n",
    "\n",
    "items=[t1,t2,t3,t4,t5,t6,t7,t1,t2,t3,t4,t5,t6,t7,t1]\n",
    "\n",
    "o = Octree(7,10)\n",
    "\n",
    "start = time.time()\n",
    "o.build_octree(items)\n",
    "end = time.time()\n",
    "print(end - start)"
   ]
  },
  {
   "cell_type": "code",
   "execution_count": null,
   "metadata": {},
   "outputs": [],
   "source": [
    "\"\"\"\"\"\n",
    "# or np.equal(b.aabb.min, [1,2,3]))\n",
    "triangle = Triangle([[0,0,0],[2,0,0],[2,1,2]])\n",
    "triangle.print()\n",
    "\n",
    "tet = Tet([[0,0,0],[2,0,0],[2,0,2],[1,2,1]])\n",
    "tet.print()\n",
    "\n",
    "print(triangle.aabb.center,\"\\n\")\n",
    "print(tet.aabb.center,\"\\n\")\n",
    "\n",
    "print(triangle.aabb.contains([0.5,1,0.5],False),\"\\n\")\n",
    "print(tet.aabb.contains([[0.5,3,0.5],[0.5,1,0.5]],False),\"\\n\")\n",
    "\n",
    "print(triangle.aabb.intersect_box(tet.aabb))\n",
    "\n",
    "triangle = Triangle([[0,0,0],[2,0,0],[2,1,2]])\n",
    "prova=OctreeNode(triangle.aabb,None)\n",
    "print(prova.aabb.min)\n",
    "print(prova.aabb.max)\n",
    "print(prova.father)\n",
    "print(prova.is_inner)\n",
    "print(prova.children)\n",
    "\n",
    "for x in prova.children:\n",
    "    x = None\n",
    "    print(x)\n",
    "    \n",
    "a=np.full(8,None)\n",
    "print(a)\"\"\"\n",
    "\n",
    "\n",
    "triangle = Triangle([[0,0,0],[1,1,1],[2,2,2]])\n",
    "triangle1 = Triangle([[1,1,1],[2,2,2],[3,3,3]])\n",
    "triangle2 = Triangle([[2,2,2],[3,3,3],[4,4,4]])\n",
    "\n",
    "\n",
    "\n",
    "items=np.array([triangle,triangle1,triangle2])\n",
    "a = OctreeNode(AABB(np.array([[0,0,0],[5,5,5]])), items, None)\n",
    "#np.append(a.items,[[1,2,3]],axis=0)\n",
    "#a.subdivide()\n",
    "#print(a.children[1].items[0].aabb.max)\n"
   ]
  },
  {
   "cell_type": "markdown",
   "metadata": {},
   "source": [
    "mesh = [Trimesh('data/bunny_tris.obj'), Quadmesh('data/bunny_quad.obj')]"
   ]
  },
  {
   "cell_type": "code",
   "execution_count": null,
   "metadata": {},
   "outputs": [],
   "source": [
    "\"\"\"\n",
    "After running this cell, you will notice that the quad bunny is quite larger than the tri bunny,\n",
    "and is also oriented differently.\n",
    "\"\"\"\n",
    "viewer = Viewer(mesh, width=1000, height=300)\n",
    "viewer.show()"
   ]
  },
  {
   "cell_type": "code",
   "execution_count": null,
   "metadata": {},
   "outputs": [],
   "source": [
    "\"\"\"\n",
    "Let's first scale the meshes to have a bounding box diagonal of 10, then update the viewer. \n",
    "NOTE: The viewer update takes some time depending\n",
    "on the quality of your connect, since the new geometry is streamed from the backend to your browser.\n",
    "\"\"\"\n",
    "\n",
    "mesh[0].vertices /= np.linalg.norm(mesh[0].bbox[1]-mesh[0].bbox[0])\n",
    "mesh[0].vertices *= 10\n",
    "mesh[1].vertices /= np.linalg.norm(mesh[1].bbox[1]-mesh[1].bbox[0])\n",
    "mesh[1].vertices *=10\n",
    "viewer.update_controls()\n",
    "viewer.update()"
   ]
  },
  {
   "cell_type": "code",
   "execution_count": null,
   "metadata": {},
   "outputs": [],
   "source": [
    "\"\"\"\n",
    "Let's rotate the quad bunny by using the transform_rotation method\n",
    "\"\"\"\n",
    "mesh[1].transform_rotation(-90, 'x')\n",
    "viewer.update()"
   ]
  },
  {
   "cell_type": "code",
   "execution_count": null,
   "metadata": {},
   "outputs": [],
   "source": [
    "\"\"\"\n",
    "Let's now do the same with a \"reactive\" approach.\n",
    "When using a reactive viewer, the user can simply act on the mesh data however they choose, and the viewer\n",
    "is asynchronously updated (with a minimal, if any, overhead on the computation).\n",
    "\n",
    "Again, consider that the redraws are strongly bound by the fact that the Python and Javascript backend are\n",
    "de-coupled in this context, since Binder runs in the cloud. We highly suggest trying the library locally to\n",
    "properly experience the reactive redraws.\n",
    "\"\"\"\n",
    "mesh2 = [Trimesh('data/bunny_tris.obj'), Quadmesh('data/bunny_quad.obj')]\n",
    "viewer2 = Viewer(mesh2, width=1000, height=500, reactive=True)\n",
    "viewer2.show()"
   ]
  },
  {
   "cell_type": "code",
   "execution_count": null,
   "metadata": {},
   "outputs": [],
   "source": [
    "mesh2[0].vertices /= np.linalg.norm(mesh2[0].bbox[1]-mesh2[0].bbox[0])\n",
    "mesh2[0].vertices *= 10\n",
    "mesh2[1].vertices /= np.linalg.norm(mesh2[1].bbox[1]-mesh2[1].bbox[0])\n",
    "mesh2[1].vertices *=10\n",
    "viewer2.update_controls()\n",
    "mesh2[1].transform_rotation(-90, 'x')"
   ]
  },
  {
   "cell_type": "code",
   "execution_count": null,
   "metadata": {},
   "outputs": [],
   "source": [
    "\"\"\"\n",
    "Here's an example with the GUI, which only works with a single mesh per scene so far. We are working to support multiple meshes.\n",
    "\"\"\"\n",
    "mesh3 = Hexmesh('data/double_hinge_hex.mesh')\n",
    "viewer3 = Viewer(mesh3, width=1000, height=300, with_gui=True)\n",
    "viewer3.show()"
   ]
  },
  {
   "cell_type": "code",
   "execution_count": null,
   "metadata": {},
   "outputs": [],
   "source": [
    "\"\"\"\n",
    "Py3DViewer have texture support for surface meshes.\n",
    "These are some examples.\n",
    "\"\"\"\n",
    "spot = Trimesh('data/spot.obj', texture='data/textures/spot_texture.png')\n",
    "blub = Trimesh('data/blub.obj', texture='data/textures/blub_texture.png')\n",
    "cube_tris = Trimesh('data/cube_tris_mtl.obj', mtl='data/cube.mtl')\n",
    "cube_quad = Quadmesh('data/cube_quad_mtl.obj', mtl='data/cube.mtl')\n",
    "spot.show()\n",
    "blub.show()\n",
    "cube_tris.show()\n",
    "cube_quad.show()"
   ]
  }
 ],
 "metadata": {
  "kernelspec": {
   "display_name": "Python 3",
   "language": "python",
   "name": "python3"
  },
  "language_info": {
   "codemirror_mode": {
    "name": "ipython",
    "version": 3
   },
   "file_extension": ".py",
   "mimetype": "text/x-python",
   "name": "python",
   "nbconvert_exporter": "python",
   "pygments_lexer": "ipython3",
   "version": "3.8.6"
  }
 },
 "nbformat": 4,
 "nbformat_minor": 4
}
