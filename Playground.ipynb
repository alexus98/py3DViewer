{
 "cells": [
  {
   "cell_type": "code",
   "execution_count": null,
   "metadata": {
    "scrolled": true
   },
   "outputs": [],
   "source": [
    "from Py3DViewer import Trimesh, Quadmesh, Tetmesh, Hexmesh\n",
    "from Py3DViewer import Viewer, laplacian_smoothing\n",
    "from Py3DViewer import AABB, SpaceObject, Octree, NOctreeNode, NOctree, Skeleton, PointCloud\n",
    "import numpy as np\n",
    "import time\n",
    "from numba.typed import List"
   ]
  },
  {
   "cell_type": "code",
   "execution_count": null,
   "metadata": {},
   "outputs": [],
   "source": [
    "#Build of the octree\n",
    "l=List()\n",
    "t=Trimesh('data/cactus.obj')\n",
    "for p in t.polys:\n",
    "    l.append(SpaceObject(np.array(t.vertices[p],dtype='float64')))\n",
    "    \n",
    "%time o=Octree(10,8,l,t.vertices)"
   ]
  },
  {
   "cell_type": "code",
   "execution_count": null,
   "metadata": {},
   "outputs": [],
   "source": [
    "#Search of a point in the octree\n",
    "p = o.n.shapes[500].vertices[0]\n",
    "%time o.search_point(type(t).__name__,p)"
   ]
  },
  {
   "cell_type": "code",
   "execution_count": null,
   "metadata": {},
   "outputs": [],
   "source": [
    "#Intersection of a ray with the octree\n",
    "ori = np.array([p[0], p[1],  p[2]+10],dtype='float64')\n",
    "d = np.array([0, 0, -1],dtype='float64')\n",
    "\n",
    "%time o.intersects_ray(type(t).__name__,ori,d)"
   ]
  },
  {
   "cell_type": "code",
   "execution_count": null,
   "metadata": {},
   "outputs": [],
   "source": [
    "#View of the octree \n",
    "vertices,edges=AABB.get_all_vertices_and_edges(o.n.aabbs)\n",
    "vertices=np.vstack(vertices)\n",
    "edges=np.array(edges)\n",
    "\n",
    "s = Skeleton(None,vertices,edges)\n",
    "viewer = Viewer([s,t], mesh_color=np.array([214.,214.,214.]) ,width=1000, height=500)\n",
    "viewer.show()"
   ]
  },
  {
   "cell_type": "code",
   "execution_count": null,
   "metadata": {},
   "outputs": [],
   "source": [
    "mesh = [Trimesh('data/bunny_tris.obj'), Quadmesh('data/bunny_quad.obj')]"
   ]
  },
  {
   "cell_type": "code",
   "execution_count": null,
   "metadata": {},
   "outputs": [],
   "source": [
    "\"\"\"\n",
    "After running this cell, you will notice that the quad bunny is quite larger than the tri bunny,\n",
    "and is also oriented differently.\n",
    "\"\"\"\n",
    "viewer = Viewer(mesh, width=1000, height=300)\n",
    "viewer.show()"
   ]
  },
  {
   "cell_type": "code",
   "execution_count": null,
   "metadata": {},
   "outputs": [],
   "source": [
    "\"\"\"\n",
    "Let's first scale the meshes to have a bounding box diagonal of 10, then update the viewer. \n",
    "NOTE: The viewer update takes some time depending\n",
    "on the quality of your connect, since the new geometry is streamed from the backend to your browser.\n",
    "\"\"\"\n",
    "\n",
    "mesh[0].vertices /= np.linalg.norm(mesh[0].bbox[1]-mesh[0].bbox[0])\n",
    "mesh[0].vertices *= 10\n",
    "mesh[1].vertices /= np.linalg.norm(mesh[1].bbox[1]-mesh[1].bbox[0])\n",
    "mesh[1].vertices *=10\n",
    "viewer.update_controls()\n",
    "viewer.update()"
   ]
  },
  {
   "cell_type": "code",
   "execution_count": null,
   "metadata": {},
   "outputs": [],
   "source": [
    "\"\"\"\n",
    "Let's rotate the quad bunny by using the transform_rotation method\n",
    "\"\"\"\n",
    "mesh[1].transform_rotation(-90, 'x')\n",
    "viewer.update()"
   ]
  },
  {
   "cell_type": "code",
   "execution_count": null,
   "metadata": {},
   "outputs": [],
   "source": [
    "\"\"\"\n",
    "Let's now do the same with a \"reactive\" approach.\n",
    "When using a reactive viewer, the user can simply act on the mesh data however they[-5.94054e-01 -5.72423e-04 -1.45624e+00] MAX CHILDREN: [0.         0.24394329 0.        ] choose, and the viewer\n",
    "is asynchronously updated (with a minimal, if any, overhead on the computation).\n",
    "\n",
    "Again, consider that the redraws are strongly bound by the fact that the Python and Javascript backend are\n",
    "de-coupled in this context, since Binder runs in the cloud. We highly suggest trying the library locally to\n",
    "properly experience the reactive redraws.\n",
    "\"\"\"\n",
    "mesh2 = [Trimesh('data/tri_326064.obj')]\n",
    "viewer2 = Viewer(mesh2, width=1000, height=500, reactive=True)\n",
    "viewer2.show()"
   ]
  },
  {
   "cell_type": "code",
   "execution_count": null,
   "metadata": {},
   "outputs": [],
   "source": [
    "mesh2[0].vertices /= np.linalg.norm(mesh2[0].bbox[1]-mesh2[0].bbox[0])\n",
    "mesh2[0].vertices *= 10\n",
    "mesh2[1].vertices /= np.linalg.norm(mesh2[1].bbox[1]-mesh2[1].bbox[0])\n",
    "mesh2[1].vertices *=10\n",
    "viewer2.update_controls()\n",
    "mesh2[1].transform_rotation(-90, 'x')"
   ]
  },
  {
   "cell_type": "code",
   "execution_count": null,
   "metadata": {},
   "outputs": [],
   "source": [
    "\"\"\"\n",
    "Here's an example with the GUI, which only works with a single mesh per scene so far. We are working to support multiple meshes.\n",
    "\"\"\"\n",
    "mesh3 = Hexmesh('data/double_hinge_hex.mesh')\n",
    "viewer3 = Viewer(t, width=1000, height=300, with_gui=True)\n",
    "viewer3.show()"
   ]
  },
  {
   "cell_type": "code",
   "execution_count": null,
   "metadata": {},
   "outputs": [],
   "source": [
    "\"\"\"\n",
    "Py3DViewer have texture support for surface meshes.\n",
    "These are some examples.\n",
    "\"\"\"\n",
    "spot = Trimesh('data/spot.obj', texture='data/textures/spot_texture.png')\n",
    "blub = Trimesh('data/blub.obj', texture='data/textures/blub_texture.png')\n",
    "cube_tris = Trimesh('data/cube_tris_mtl.obj', mtl='data/cube.mtl')\n",
    "cube_quad = Quadmesh('data/cube_quad_mtl.obj', mtl='data/cube.mtl')\n",
    "spot.show()\n",
    "blub.show()\n",
    "cube_tris.show()\n",
    "cube_quad.show()"
   ]
  }
 ],
 "metadata": {
  "kernelspec": {
   "display_name": "Python 3",
   "language": "python",
   "name": "python3"
  },
  "language_info": {
   "codemirror_mode": {
    "name": "ipython",
    "version": 3
   },
   "file_extension": ".py",
   "mimetype": "text/x-python",
   "name": "python",
   "nbconvert_exporter": "python",
   "pygments_lexer": "ipython3",
   "version": "3.8.10"
  }
 },
 "nbformat": 4,
 "nbformat_minor": 4
}
